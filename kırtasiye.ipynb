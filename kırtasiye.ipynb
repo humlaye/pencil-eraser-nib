{
  "nbformat": 4,
  "nbformat_minor": 0,
  "metadata": {
    "colab": {
      "provenance": [],
      "authorship_tag": "ABX9TyPgoZwGAPpNPpGtZ7oCLqLi",
      "include_colab_link": true
    },
    "kernelspec": {
      "name": "python3",
      "display_name": "Python 3"
    },
    "language_info": {
      "name": "python"
    }
  },
  "cells": [
    {
      "cell_type": "markdown",
      "metadata": {
        "id": "view-in-github",
        "colab_type": "text"
      },
      "source": [
        "<a href=\"https://colab.research.google.com/github/humlaye/pencil-eraser-nib/blob/main/k%C4%B1rtasiye.ipynb\" target=\"_parent\"><img src=\"https://colab.research.google.com/assets/colab-badge.svg\" alt=\"Open In Colab\"/></a>"
      ]
    },
    {
      "cell_type": "code",
      "execution_count": 22,
      "metadata": {
        "colab": {
          "base_uri": "https://localhost:8080/"
        },
        "id": "LNSOZdTJHeRk",
        "outputId": "08a56543-4793-44f6-cc0d-1f161afcdf9c"
      },
      "outputs": [
        {
          "output_type": "stream",
          "name": "stdout",
          "text": [
            "Mounted at /content/gdrive\n"
          ]
        }
      ],
      "source": [
        "# Google drive ile bağlantı kurmak için Bu işlem verileri yedeklemem ve verileri çekmemiz için kolaylaştrılmış bir yötemdir.\n",
        "from google.colab import drive # Bu kod, Colab ortamında Google Drive'daki dosyalara erişebilmek için Google'ın sunduğu Python kütüphanesini içe aktarır.\n",
        "#Bu kütüphane, Google Drive'ı Colab ile entegre etmek için gerekli olan fonksiyonları içerir.\n",
        "drive.mount(\"/content/gdrive\") #Bu satır, Google Drive'ı Colab'a bağlamak için kullanılır.\n",
        "#Bu işlem, Google Drive'ınızı Colab sanal makinesine bağlar ve bu bağlantıyı \"/content/gdrive\" dizinine monte eder. Yani Google Drive içeriği, \"/content/gdrive\" dizini altında erişilebilir hale gelir."
      ]
    },
    {
      "cell_type": "code",
      "source": [
        "%cd /content/gdrive/My Drive/CNN modelleme/\n",
        "#Bu şekilde drivede olan dosyanın adresine girek bağlanmış oldu."
      ],
      "metadata": {
        "colab": {
          "base_uri": "https://localhost:8080/"
        },
        "id": "jCLq1WQDH1Pu",
        "outputId": "aa7126b4-4b84-4f81-dac5-0fbb0f890221"
      },
      "execution_count": 23,
      "outputs": [
        {
          "output_type": "stream",
          "name": "stdout",
          "text": [
            "/content/gdrive/My Drive/CNN modelleme\n"
          ]
        }
      ]
    },
    {
      "cell_type": "code",
      "source": [
        "# Veri yollarını belirleyin\n",
        "train_data_yolu = \"/content/gdrive/My Drive/CNN modelleme/data/train\"\n",
        "test_data_yolu = \"/content/gdrive/My Drive/CNN modelleme/data/test\"\n"
      ],
      "metadata": {
        "id": "0sptvZARH_3h"
      },
      "execution_count": null,
      "outputs": []
    },
    {
      "cell_type": "code",
      "source": [
        "#GPU test ve device isimleri\n",
        "import tensorflow as tf  #Kütüphanenin ismini kısalttım\n",
        "tf.test.gpu_device_name()  #mevcut ortamda olan gpu ismini döndürür\n",
        "\n",
        "from tensorflow.python.client import device_lib\n",
        "device_lib.list_local_devices()"
      ],
      "metadata": {
        "colab": {
          "base_uri": "https://localhost:8080/"
        },
        "id": "97XDb2wPJvlG",
        "outputId": "b3636e7a-c657-45a4-e72c-5758ac3c32ee"
      },
      "execution_count": 24,
      "outputs": [
        {
          "output_type": "execute_result",
          "data": {
            "text/plain": [
              "[name: \"/device:CPU:0\"\n",
              " device_type: \"CPU\"\n",
              " memory_limit: 268435456\n",
              " locality {\n",
              " }\n",
              " incarnation: 5122308439589405563\n",
              " xla_global_id: -1]"
            ]
          },
          "metadata": {},
          "execution_count": 24
        }
      ]
    },
    {
      "cell_type": "code",
      "source": [
        "from keras.preprocessing.image import ImageDataGenerator\n",
        "from keras.models import Sequential\n",
        "from keras.layers import Conv2D, MaxPooling2D\n",
        "from keras.layers import Activation, Dropout, Flatten, Dense\n",
        "from keras import backend as K\n",
        "\n",
        "#Giris olarak verilecek görüntülerin boyutları\n",
        "img_width, img_height = 224, 224   #resimleri kaça kaç eğitilecek o yazılır\n",
        "\n",
        "#Datamızın yeri\n",
        "train_data_yolu = \"data/train\"\n",
        "test_data_yolu = \"data/test\"\n",
        "train_sayi = 18\n",
        "test_sayi = 18\n",
        "epochs = 20  # eğitim adımı. her bir detayı ogrenme sayısı\n",
        "batch_size = 1  # her seferde eğitim için alınacak veri\n",
        "print(\"selam\")\n",
        "\n",
        "if K.image_data_format() == \"channels_first\":\n",
        "  input_shape = (3, img_width, img_height)\n",
        "  print(\"if kosuluna girdi\")\n",
        "else:\n",
        "  input_shape = (img_width, img_height, 3)\n",
        "  #3 rakamının anlamı resimler rgb olmasıdır. Siyah beyaz olsa 1 olurdu.\n",
        "  print(\"else komutuna girdi\")"
      ],
      "metadata": {
        "colab": {
          "base_uri": "https://localhost:8080/"
        },
        "id": "3wdzqlJqLiIF",
        "outputId": "7d90440f-816b-43d3-f83b-fae70971b4db"
      },
      "execution_count": 25,
      "outputs": [
        {
          "output_type": "stream",
          "name": "stdout",
          "text": [
            "selam\n",
            "else komutuna girdi\n"
          ]
        }
      ]
    },
    {
      "cell_type": "code",
      "source": [
        "# Model Oluşturma\n",
        "model = Sequential()\n",
        "          #Giriş katmanı ve conv1\n",
        "model.add(Conv2D(32, (3, 3), input_shape = input_shape))  #32 filtre sayısı. 3x3 konvolusyon boyutu\n",
        "model.add(Activation(\"relu\"))\n",
        "model.add(MaxPooling2D(pool_size = (2, 2))) # 2x2 lik maxpool uygulanmıs. Resim boyutunu yarıya indiriyoz\n",
        "\n",
        "          #Conv2\n",
        "model.add(Conv2D(32, (5, 5)))\n",
        "model.add(Conv2D(32, (3, 3)))\n",
        "model.add(Activation(\"relu\"))\n",
        "model.add(MaxPooling2D(pool_size = (2, 2)))\n",
        "\n",
        "          #Conv3\n",
        "model.add(Conv2D(64, (3, 3)))\n",
        "model.add(Activation(\"relu\"))\n",
        "model.add(MaxPooling2D(pool_size = (2, 2)))\n",
        "\n",
        "          #Flatten Düzleştirme\n",
        "model.add(Flatten())\n",
        "\n",
        "          #FC (Fully Connected Layer) oluşturma\n",
        "model.add(Dense(64))   #64 nöron var\n",
        "model.add(Activation(\"relu\"))\n",
        "model.add(Dropout(0.5))  #Dropout Factorization\n",
        "model.add(Dense(3))\n",
        "\n",
        "          #Sınıf sayısı. Binary sınıflandırma için model.add(Dense(1))\n",
        "model.add(Activation(\"sigmoid\"))\n",
        "\n",
        "          #model derleme\n",
        "model.compile(loss=\"binary_crossentropy\", optimizer = \"rmsprop\", metrics = [\"accuracy\"] )\n",
        "print(\"Okey\")"
      ],
      "metadata": {
        "colab": {
          "base_uri": "https://localhost:8080/"
        },
        "id": "SSPsUI7sYsJd",
        "outputId": "c1ece531-1d64-48ac-d583-cf88f6ac0d30"
      },
      "execution_count": 26,
      "outputs": [
        {
          "output_type": "stream",
          "name": "stdout",
          "text": [
            "Okey\n"
          ]
        }
      ]
    },
    {
      "cell_type": "code",
      "source": [
        "#train işlemi için kullanılan veriler coğaltılıyor\n",
        "train_datalar =ImageDataGenerator(\n",
        "    rescale = 1.0 /255,\n",
        "    shear_range = 0.2,\n",
        "    zoom_range = 0.2,\n",
        "    horizontal_flip=True)\n",
        "\n",
        "#datalar = ImageDataGenerator (\n",
        " #   rotation_range = 40, width_shift_range= 0.2, height_shift_range= 0.2, shear_range= 0.2, zoom_range= 0.2, horizontal_flip= True, fill_mode = \"nearest\")\n",
        "\n",
        "#Test işlemi için görüntüleri rescale boyutlandırma yapıyo\n",
        "test_datalar = ImageDataGenerator(rescale = 1.0 /255)\n",
        "\n",
        "# Veri yollarını belirleyin\n",
        "train_data_yolu = \"/content/gdrive/My Drive/CNN modelleme/data/train\"\n",
        "test_data_yolu = \"/content/gdrive/My Drive/CNN modelleme/data/test\"\n",
        "\n",
        "train_generator = train_datalar.flow_from_directory(\n",
        "    train_data_yolu,\n",
        "    target_size = (img_width, img_height),\n",
        "    batch_size = batch_size,\n",
        "    class_mode =\"categorical\")\n",
        "\n",
        "#Binary classification : class_mode =\"binary\"\n",
        "#multiclass class_mode =\"categorical\"\n",
        "\n",
        "\n",
        "test_generator = test_datalar.flow_from_directory(\n",
        "    test_data_yolu,\n",
        "    target_size = (img_width, img_height),\n",
        "    batch_size = batch_size,\n",
        "    class_mode =\"categorical\")\n",
        "\n",
        "#Binary classification : class_mode =\"binary\"\n",
        "#multiclass class_mode =\"categorical\""
      ],
      "metadata": {
        "colab": {
          "base_uri": "https://localhost:8080/"
        },
        "id": "DzvCDer8Al7S",
        "outputId": "767cc6c7-dec8-445f-9abd-1ac3797f09bc"
      },
      "execution_count": 31,
      "outputs": [
        {
          "output_type": "stream",
          "name": "stdout",
          "text": [
            "Found 18 images belonging to 3 classes.\n",
            "Found 18 images belonging to 3 classes.\n"
          ]
        }
      ]
    },
    {
      "cell_type": "code",
      "source": [
        "#Modelin eğitilmesi\n",
        "model.fit_generator(\n",
        "    train_generator,\n",
        "    steps_per_epoch=train_sayi // batch_size,\n",
        "    epochs=epochs,\n",
        "    validation_data=test_generator,\n",
        "    validation_steps=test_sayi // batch_size\n",
        ")"
      ],
      "metadata": {
        "colab": {
          "base_uri": "https://localhost:8080/"
        },
        "id": "XJdqMudDDefx",
        "outputId": "7d0ee59c-3ed0-4f41-cda8-7def6e928872"
      },
      "execution_count": 33,
      "outputs": [
        {
          "output_type": "stream",
          "name": "stderr",
          "text": [
            "<ipython-input-33-a11fd814f053>:2: UserWarning: `Model.fit_generator` is deprecated and will be removed in a future version. Please use `Model.fit`, which supports generators.\n",
            "  model.fit_generator(\n"
          ]
        },
        {
          "output_type": "stream",
          "name": "stdout",
          "text": [
            "Epoch 1/20\n",
            "12/18 [===================>..........] - ETA: 2s - loss: 1.5814 - accuracy: 0.2500"
          ]
        },
        {
          "output_type": "stream",
          "name": "stderr",
          "text": [
            "/usr/local/lib/python3.10/dist-packages/PIL/Image.py:996: UserWarning: Palette images with Transparency expressed in bytes should be converted to RGBA images\n",
            "  warnings.warn(\n"
          ]
        },
        {
          "output_type": "stream",
          "name": "stdout",
          "text": [
            "18/18 [==============================] - 19s 1s/step - loss: 1.2531 - accuracy: 0.2778 - val_loss: 1.6593 - val_accuracy: 0.3333\n",
            "Epoch 2/20\n",
            "18/18 [==============================] - 5s 277ms/step - loss: 0.7573 - accuracy: 0.2778 - val_loss: 0.6604 - val_accuracy: 0.3333\n",
            "Epoch 3/20\n",
            "18/18 [==============================] - 4s 196ms/step - loss: 0.7224 - accuracy: 0.3333 - val_loss: 0.9887 - val_accuracy: 0.3333\n",
            "Epoch 4/20\n",
            "18/18 [==============================] - 4s 197ms/step - loss: 0.9298 - accuracy: 0.3333 - val_loss: 0.6476 - val_accuracy: 0.5556\n",
            "Epoch 5/20\n",
            "18/18 [==============================] - 4s 195ms/step - loss: 0.6318 - accuracy: 0.6111 - val_loss: 0.5983 - val_accuracy: 0.3333\n",
            "Epoch 6/20\n",
            "18/18 [==============================] - 4s 231ms/step - loss: 0.6930 - accuracy: 0.2778 - val_loss: 0.6373 - val_accuracy: 0.6111\n",
            "Epoch 7/20\n",
            "18/18 [==============================] - 3s 193ms/step - loss: 0.7293 - accuracy: 0.4444 - val_loss: 0.5793 - val_accuracy: 0.3889\n",
            "Epoch 8/20\n",
            "18/18 [==============================] - 5s 255ms/step - loss: 0.5685 - accuracy: 0.5000 - val_loss: 0.5794 - val_accuracy: 0.5000\n",
            "Epoch 9/20\n",
            "18/18 [==============================] - 4s 218ms/step - loss: 0.6125 - accuracy: 0.3889 - val_loss: 0.6539 - val_accuracy: 0.5556\n",
            "Epoch 10/20\n",
            "18/18 [==============================] - 3s 193ms/step - loss: 0.6222 - accuracy: 0.5000 - val_loss: 0.6100 - val_accuracy: 0.6111\n",
            "Epoch 11/20\n",
            "18/18 [==============================] - 4s 235ms/step - loss: 0.5432 - accuracy: 0.5556 - val_loss: 0.6181 - val_accuracy: 0.6667\n",
            "Epoch 12/20\n",
            "18/18 [==============================] - 4s 220ms/step - loss: 0.6560 - accuracy: 0.5556 - val_loss: 0.5302 - val_accuracy: 0.5000\n",
            "Epoch 13/20\n",
            "18/18 [==============================] - 3s 189ms/step - loss: 0.4676 - accuracy: 0.6667 - val_loss: 0.6011 - val_accuracy: 0.6111\n",
            "Epoch 14/20\n",
            "18/18 [==============================] - 3s 191ms/step - loss: 0.5076 - accuracy: 0.6111 - val_loss: 0.6073 - val_accuracy: 0.6111\n",
            "Epoch 15/20\n",
            "18/18 [==============================] - 5s 251ms/step - loss: 0.6657 - accuracy: 0.3889 - val_loss: 0.6108 - val_accuracy: 0.6111\n",
            "Epoch 16/20\n",
            "18/18 [==============================] - 3s 193ms/step - loss: 0.5139 - accuracy: 0.5556 - val_loss: 0.6206 - val_accuracy: 0.6667\n",
            "Epoch 17/20\n",
            "18/18 [==============================] - 4s 208ms/step - loss: 0.6329 - accuracy: 0.7222 - val_loss: 0.7200 - val_accuracy: 0.6667\n",
            "Epoch 18/20\n",
            "18/18 [==============================] - 6s 347ms/step - loss: 0.3997 - accuracy: 0.7778 - val_loss: 1.0823 - val_accuracy: 0.6667\n",
            "Epoch 19/20\n",
            "18/18 [==============================] - 4s 205ms/step - loss: 0.4927 - accuracy: 0.7778 - val_loss: 0.7626 - val_accuracy: 0.6667\n",
            "Epoch 20/20\n",
            "18/18 [==============================] - 4s 200ms/step - loss: 0.4808 - accuracy: 0.7778 - val_loss: 0.8864 - val_accuracy: 0.7222\n"
          ]
        },
        {
          "output_type": "execute_result",
          "data": {
            "text/plain": [
              "<keras.src.callbacks.History at 0x7e9ea4a01840>"
            ]
          },
          "metadata": {},
          "execution_count": 33
        }
      ]
    },
    {
      "cell_type": "code",
      "source": [
        "#Modeli weightler rastsal olduğu için başarılı sonuları korumak için oluşturduğumuz modellerei kaydeder.\n",
        "model.save_weights(\"basarili_model.h5\")"
      ],
      "metadata": {
        "id": "bkz5yIIkJwCg"
      },
      "execution_count": 34,
      "outputs": []
    },
    {
      "cell_type": "code",
      "source": [
        "from keras.preprocessing.image import load_img\n",
        "from keras.preprocessing.image import img_to_array\n",
        "import numpy as np\n",
        "\n",
        "model.load_weights(\"basarili_model.h5\")  #Kaydettiğimiz modellerden birini yüklüyoz\n",
        "\n",
        "img = load_img(\"deneme1uc.jpeg\", grayscale=False, color_mode = \"rgb\", target_size= (img_width, img_height))  #elimizdeki veriler ile eğittikten sonra elimizde bir resim ile ayır etmesinie bakacaz\n",
        "#img = load_img(\"deneme1pen.JPEG\", False, (img_width, img_height))\n",
        "\n",
        "x = img_to_array(img)  # numpy kütüphanesi ile bir diziye dönüştürülüyo\n",
        "prediction = model.predict(x.reshape(1, img_width, img_height, 3), batch_size = 32, verbose =0)  #(1, 224 , 224, 3)\n",
        "\n",
        "print(prediction)\n"
      ],
      "metadata": {
        "colab": {
          "base_uri": "https://localhost:8080/"
        },
        "id": "u4jbQFlkLT04",
        "outputId": "44f01d54-a9ef-4140-eace-7bc4608b5d6f"
      },
      "execution_count": 38,
      "outputs": [
        {
          "output_type": "stream",
          "name": "stdout",
          "text": [
            "[[0. 0. 0.]]\n"
          ]
        }
      ]
    },
    {
      "cell_type": "code",
      "source": [],
      "metadata": {
        "id": "GLDKfg4oOmBF"
      },
      "execution_count": null,
      "outputs": []
    }
  ]
}